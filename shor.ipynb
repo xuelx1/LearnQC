{
 "cells": [
  {
   "cell_type": "markdown",
   "metadata": {},
   "source": [
    " * Copyright 2024 Xue_Lexiang\n",
    " * Licensed under MIT (https://github.com/xuelx1/LearnQC/LISENCE)"
   ]
  },
  {
   "cell_type": "markdown",
   "metadata": {},
   "source": [
    "##  Shor algorithm. 3n+2 qubit version.\n",
    "###  Given a number n, return a non-trivial factor of n. "
   ]
  },
  {
   "cell_type": "markdown",
   "metadata": {},
   "source": [
    "### 1.Imports and Set parameters"
   ]
  },
  {
   "cell_type": "code",
   "execution_count": 1,
   "metadata": {},
   "outputs": [],
   "source": [
    "from math import sqrt, isqrt, ceil, gcd, log2\n",
    "from random import randint\n",
    "from sympy import isprime\n",
    "from fractions import Fraction"
   ]
  },
  {
   "cell_type": "code",
   "execution_count": 2,
   "metadata": {},
   "outputs": [],
   "source": [
    "max_times = 10 # max number of times to try qpe_period_finding\n",
    "\n",
    "runtime = False # False: use simulator; True: use real device\n",
    "\n",
    "if runtime:\n",
    "    from qiskit_ibm_runtime import QiskitRuntimeService\n",
    "    server = QiskitRuntimeService(channel='ibm_quantum'\n",
    "                              , token='5a4183f75ee6b42611883d88d91c3c60fce0dbe91f4b8b73b0b508671732ef1ca42fef964ca37661240d5fe8b4038907fc0cb1eedd7e4ed7280e89506db7622c'\n",
    "    )\n",
    "    backend = server.backend(name = 'ibm_kyiv')\n",
    "else:\n",
    "    from qiskit_aer import AerSimulator\n",
    "    backend = AerSimulator()"
   ]
  },
  {
   "cell_type": "markdown",
   "metadata": {},
   "source": [
    "### 2.Order_Finding Algorithm (Quantum Part)\n",
    "\n",
    "#### Quantum Part of Shor's Algorithm is implemented in shor_quantum.py, based on https://github.com/kazawai/shor_qiskit. "
   ]
  },
  {
   "cell_type": "code",
   "execution_count": 3,
   "metadata": {},
   "outputs": [
    {
     "name": "stdout",
     "output_type": "stream",
     "text": [
      "Import completed.\n"
     ]
    }
   ],
   "source": [
    "from shor_quantum import shor_quantum\n",
    "print(\"Import completed.\")"
   ]
  },
  {
   "cell_type": "markdown",
   "metadata": {},
   "source": [
    "### 3. Shor Algorithm (Classical Part)"
   ]
  },
  {
   "cell_type": "code",
   "execution_count": 4,
   "metadata": {},
   "outputs": [],
   "source": [
    "def find_factor(n, backend):\n",
    "    if n % 2==0: \n",
    "        return 2\n",
    "    for i in range(2, ceil(log2(n)+1)):\n",
    "        root = n ** (1 / i) \n",
    "        if root == int(root):\n",
    "            return int(root)\n",
    "    count = 0\n",
    "    while count <= max_times:\n",
    "        a = randint(2, n-1)\n",
    "        N = ceil(log2(n))\n",
    "        if gcd(a, n) != 1:\n",
    "            return gcd(a, n)\n",
    "        r = shor_quantum(a, n, backend)\n",
    "        if r == 0 :\n",
    "            continue\n",
    "        if pow(a, int(r/2), n) != -1:\n",
    "            s1 = gcd(pow(a, int(r/2), n) - 1, n)\n",
    "            s2 = gcd(pow(a, int(r/2), n) + 1, n)\n",
    "            if s1 > 1 and s1 < N:\n",
    "                return s1\n",
    "            if s2 > 1 and s2 < N:\n",
    "                return s2\n",
    "        count +=1\n",
    "        print(f\"Trying {count} of {max_times}, a == {a}, r == {r}.\")\n",
    "\n"
   ]
  },
  {
   "cell_type": "markdown",
   "metadata": {},
   "source": [
    "### 4. Factorization"
   ]
  },
  {
   "cell_type": "code",
   "execution_count": 5,
   "metadata": {},
   "outputs": [],
   "source": [
    "N = 45        "
   ]
  },
  {
   "cell_type": "code",
   "execution_count": 6,
   "metadata": {},
   "outputs": [
    {
     "name": "stdout",
     "output_type": "stream",
     "text": [
      "[45]\n",
      "[3, 15]\n",
      "[3, 5, 3]\n"
     ]
    }
   ],
   "source": [
    "factors = []\n",
    "\n",
    "def find_inprime(factors):\n",
    "    for fac_idx in range(len(factors)):\n",
    "        if not isprime(factors[fac_idx]):\n",
    "            return fac_idx\n",
    "    return -1\n",
    "\n",
    "factors.append(N)\n",
    "while find_inprime(factors) != -1:\n",
    "    print(factors)\n",
    "    fac_idx = find_inprime(factors)\n",
    "    fac = factors.pop(fac_idx)\n",
    "    new_fac = find_factor(fac, backend)\n",
    "    factors.append(new_fac)\n",
    "    factors.append(int(fac/new_fac))\n",
    "print(factors)\n"
   ]
  }
 ],
 "metadata": {
  "kernelspec": {
   "display_name": "qc",
   "language": "python",
   "name": "python3"
  },
  "language_info": {
   "codemirror_mode": {
    "name": "ipython",
    "version": 3
   },
   "file_extension": ".py",
   "mimetype": "text/x-python",
   "name": "python",
   "nbconvert_exporter": "python",
   "pygments_lexer": "ipython3",
   "version": "3.12.4"
  }
 },
 "nbformat": 4,
 "nbformat_minor": 2
}
