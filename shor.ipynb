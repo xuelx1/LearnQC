{
 "cells": [
  {
   "cell_type": "markdown",
   "metadata": {},
   "source": [
    " * Copyright 2024 Xue_Lexiang\n",
    " * Licensed under MIT (https://github.com/xuelx1/LearnQC/LISENCE)"
   ]
  },
  {
   "cell_type": "markdown",
   "metadata": {},
   "source": [
    "##  Shor algorithm. 3n+2 qubit version.\n",
    "###  Given a number n, return a non-trivial factor of n. "
   ]
  },
  {
   "cell_type": "markdown",
   "metadata": {},
   "source": [
    "### 1.Imports"
   ]
  },
  {
   "cell_type": "code",
   "execution_count": 3,
   "metadata": {},
   "outputs": [
    {
     "name": "stdout",
     "output_type": "stream",
     "text": [
      "Import completed.\n"
     ]
    }
   ],
   "source": [
    "from funcs import *\n",
    "from qiskit.circuit import ClassicalRegister\n",
    "from math import sqrt, isqrt, ceil, gcd, log2\n",
    "from random import randint\n",
    "from sympy import isprime\n",
    "from fractions import Fraction\n",
    "print(\"Import completed.\")"
   ]
  },
  {
   "cell_type": "markdown",
   "metadata": {},
   "source": [
    "### 2.Order_Finding Algorithm (Quantum Part)"
   ]
  },
  {
   "cell_type": "markdown",
   "metadata": {},
   "source": [
    "#### 2.1 build Multiplier Gate"
   ]
  },
  {
   "cell_type": "code",
   "execution_count": 4,
   "metadata": {},
   "outputs": [],
   "source": [
    "# wait to be completed\n",
    "\n",
    "def c_amodN(a, power, N):\n",
    "    n = ceil(log2(N))\n",
    "    U = QuantumCircuit(n)\n",
    "    for i in range(power):\n",
    "        for j in range(n-1):\n",
    "            U.swap(n-j-2, n-j-1)\n",
    "        U.x(range(n))\n",
    "    U = U.to_gate()\n",
    "    U.name = \"%i^%i mod %i\" % (a, power, N)\n",
    "    c_U = U.control()\n",
    "    return c_U"
   ]
  },
  {
   "cell_type": "markdown",
   "metadata": {},
   "source": [
    "#### 2.2 build QFT dagger"
   ]
  },
  {
   "cell_type": "code",
   "execution_count": 5,
   "metadata": {},
   "outputs": [],
   "source": [
    "def qft_dagger(n):\n",
    "    qc = QuantumCircuit(n)\n",
    "    for qubit in range(n//2):\n",
    "        qc.swap(qubit, n-qubit-1)\n",
    "    for j in range(n):\n",
    "        for m in range(j):\n",
    "            qc.cp(-np.pi/float(2**(j-m)), m, j)\n",
    "        qc.h(j)\n",
    "    qc.name = \"QFT†\"\n",
    "    return qc"
   ]
  },
  {
   "cell_type": "markdown",
   "metadata": {},
   "source": [
    "#### 2.3 Assemble Order-Finding Circuit"
   ]
  },
  {
   "cell_type": "code",
   "execution_count": 6,
   "metadata": {},
   "outputs": [],
   "source": [
    "def order_finding(N, a):\n",
    "    n = ceil(log2(N))\n",
    "    qc = QuantumCircuit(3*n)\n",
    "    qc.h(range(2*n))\n",
    "    qc.x(3*n-1)\n",
    "    for q in range(2*n):\n",
    "        qc.append(c_amodN(a, 2**q, N), [q]+[j+2*n for j in range(n)])\n",
    "    qc.barrier()\n",
    "    qc.append(qft_dagger(2*n), range(2*n))\n",
    "    qc = transpile(qc, backend=AerSimulator())\n",
    "    c = ClassicalRegister(2*n)\n",
    "    qc.add_register(c)\n",
    "    for i in range(2*n):\n",
    "        qc.measure(i, c[i])\n",
    "    results = execute_qc(qc)\n",
    "    for key,_ in results.items():\n",
    "        phase_est = float(int(key, 2)) / 2**(2*n)\n",
    "        frac = Fraction.from_float(phase_est).limit_denominator(N)\n",
    "        r = frac.denominator\n",
    "        if pow(a, r, N) == 1 and r % 2 == 0:\n",
    "            return r\n",
    "    return 0\n",
    "    "
   ]
  },
  {
   "cell_type": "markdown",
   "metadata": {},
   "source": [
    "### 3. Shor Algorithm (Classical Part)"
   ]
  },
  {
   "cell_type": "code",
   "execution_count": 7,
   "metadata": {},
   "outputs": [],
   "source": [
    "def shor_factoring(N):\n",
    "    if N % 2 == 0:\n",
    "        return 2\n",
    "    for i in range(2, ceil(log2(N)+1)):\n",
    "        root = N ** (1 / i) \n",
    "        if root == int(root):\n",
    "            return int(root)\n",
    "    while True:\n",
    "        a = randint(2, N-1)\n",
    "        if gcd(a, N) != 1:\n",
    "            return gcd(a, N)\n",
    "        r = order_finding(a, N) # r%2 == 0, otherwise order_finding won't return it.\n",
    "        if r == 0:\n",
    "            continue\n",
    "        if pow(a, int(r/2), N) != -1:\n",
    "            s1 = gcd(pow(a, int(r/2), N) - 1, N)\n",
    "            s2 = gcd(pow(a, int(r/2), N) + 1, N)\n",
    "            if s1 > 1 and s1 < N:\n",
    "                return s1\n",
    "            if s2 > 1 and s2 < N:\n",
    "                return s2\n"
   ]
  },
  {
   "cell_type": "markdown",
   "metadata": {},
   "source": [
    "### 4. Factorization"
   ]
  },
  {
   "cell_type": "code",
   "execution_count": 8,
   "metadata": {},
   "outputs": [],
   "source": [
    "N = 91        "
   ]
  },
  {
   "cell_type": "code",
   "execution_count": 9,
   "metadata": {},
   "outputs": [
    {
     "name": "stdout",
     "output_type": "stream",
     "text": [
      "[91]\n",
      "[13, 7]\n"
     ]
    }
   ],
   "source": [
    "factors = []\n",
    "\n",
    "def find_inprime(factors):\n",
    "    for fac_idx in range(len(factors)):\n",
    "        if not isprime(factors[fac_idx]):\n",
    "            return fac_idx\n",
    "    return -1\n",
    "\n",
    "factors.append(N)\n",
    "while find_inprime(factors) != -1:\n",
    "    print(factors)\n",
    "    fac_idx = find_inprime(factors)\n",
    "    fac = factors.pop(fac_idx)\n",
    "    new_fac = shor_factoring(fac)\n",
    "    factors.append(new_fac)\n",
    "    factors.append(int(fac/new_fac))\n",
    "print(factors)\n"
   ]
  }
 ],
 "metadata": {
  "kernelspec": {
   "display_name": "qc",
   "language": "python",
   "name": "python3"
  },
  "language_info": {
   "codemirror_mode": {
    "name": "ipython",
    "version": 3
   },
   "file_extension": ".py",
   "mimetype": "text/x-python",
   "name": "python",
   "nbconvert_exporter": "python",
   "pygments_lexer": "ipython3",
   "version": "3.12.3"
  }
 },
 "nbformat": 4,
 "nbformat_minor": 2
}
