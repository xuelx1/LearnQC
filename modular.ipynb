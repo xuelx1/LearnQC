{
 "cells": [
  {
   "cell_type": "markdown",
   "metadata": {},
   "source": [
    " * Copyright 2024 Xue_Lexiang\n",
    " * Licensed under MIT (https://github.com/xuelx1/LearnQC/LISENCE)"
   ]
  },
  {
   "cell_type": "markdown",
   "metadata": {},
   "source": [
    "### Modular Addition and Multiplication"
   ]
  },
  {
   "cell_type": "markdown",
   "metadata": {},
   "source": [
    "#### 1.Modular Adder Gate"
   ]
  },
  {
   "cell_type": "code",
   "execution_count": 2,
   "metadata": {},
   "outputs": [],
   "source": [
    "from qiskit import QuantumCircuit, transpile\n",
    "from qiskit_aer import AerSimulator\n",
    "from qiskit.circuit.library import QFT \n",
    "import numpy as np\n",
    "import math\n",
    "import itertools\n",
    "\n",
    "backend = AerSimulator()"
   ]
  },
  {
   "cell_type": "code",
   "execution_count": 3,
   "metadata": {},
   "outputs": [],
   "source": [
    "def getAngles(a, N):\n",
    "    s = bin(int(a))[2:].zfill(N)\n",
    "    angles = np.zeros(N)\n",
    "    for i in range(N):\n",
    "        for j in range(i, N):\n",
    "            if s[j] == '1':\n",
    "                angles[N-i-1] += math.pow(2, i-j)\n",
    "        angles[N-1-i] *= math.pi    \n",
    "    return angles\n"
   ]
  },
  {
   "cell_type": "code",
   "execution_count": 4,
   "metadata": {},
   "outputs": [],
   "source": [
    "def phiADD(a, N):\n",
    "    qc = QuantumCircuit(N)\n",
    "    angels = getAngles(a, N)\n",
    "    for i in range(N):\n",
    "        qc.p(angels[i], i)    \n",
    "    qc = qc.to_gate()\n",
    "    qc.name = \"phiADD %i\" % (a)\n",
    "    return qc\n",
    "\n",
    "def cphiADD(a, N):\n",
    "    qc = QuantumCircuit(N+1)\n",
    "    angels = getAngles(a, N)\n",
    "    for i in range(N):\n",
    "        qc.cp(angels[i], 0, i+1)    \n",
    "    qc = qc.to_gate()\n",
    "    qc.name = \"cphiADD %i\" % (a)\n",
    "    return qc\n",
    "\n",
    "def ccphiADD(a, N):\n",
    "    qc = QuantumCircuit(N+2)\n",
    "    angle=getAngles(a, N)\n",
    "    for i in range(N):\n",
    "        qc.mcp(angle[i], [0, 1], i+2)\n",
    "    qc = qc.to_gate()\n",
    "    qc.name = \"ccphiADD %i\" % (a)\n",
    "    return qc"
   ]
  },
  {
   "cell_type": "code",
   "execution_count": 5,
   "metadata": {},
   "outputs": [],
   "source": [
    "def ccphiADDmodN(a, n, N):\n",
    "    '''a N+3-qubit gate, first two qubits are the control\n",
    "    from 3 to N+2 are qubits, which receive phase of b and return phase of a+b mod n\n",
    "    the last qubit is the ancilla'''\n",
    "    qft = QFT(N, do_swaps=False)\n",
    "    qft_inv = qft.inverse()\n",
    "    ccadd_a = ccphiADD(a, N)\n",
    "    ccadd_a_inv = ccadd_a.inverse()\n",
    "    add_n = phiADD(n, N)\n",
    "    add_n_inv = add_n.inverse()\n",
    "    cadd_n = cphiADD(n, N)\n",
    "    qc = QuantumCircuit(N+3)\n",
    "    \n",
    "    qc.append(ccadd_a, list(range(N+2)))\n",
    "    qc.append(add_n_inv, list(range(2, N+2)))\n",
    "    qc.append(qft_inv, list(range(2, N+2)))\n",
    "    qc.cx(N+1, N+2)\n",
    "    qc.append(qft, list(range(2, N+2)))\n",
    "    qc.append(cadd_n, [N+2] + list(range(2, N+2))) \n",
    "    qc.append(ccadd_a_inv, list(range(N+2)))\n",
    "    qc.append(qft_inv, list(range(2, N+2)))\n",
    "    qc.x(N+1)\n",
    "    qc.cx(N+1, N+2)\n",
    "    qc.x(N+1)\n",
    "    qc.append(qft, list(range(2, N+2)))\n",
    "    qc.append(ccadd_a, list(range(N+2)))\n",
    "    return qc\n"
   ]
  },
  {
   "cell_type": "code",
   "execution_count": 12,
   "metadata": {},
   "outputs": [
    {
     "name": "stdout",
     "output_type": "stream",
     "text": [
      "{'100011': 1024}\n"
     ]
    }
   ],
   "source": [
    "n = 8\n",
    "N = math.ceil(math.log2(n))\n",
    "a = 7\n",
    "b = 5\n",
    "qc = QuantumCircuit(N+3)\n",
    "qft = QFT(N, do_swaps=False)\n",
    "qft_inv = qft.inverse()\n",
    "bin_b = bin(b)[2:].zfill(N)\n",
    "qc.x([0, 1])\n",
    "for i in range(N):\n",
    "    if bin_b[i] == '1':\n",
    "        qc.x(i+2)\n",
    "qc.append(qft, list(range(2, N+2)))\n",
    "modadder_circuit = ccphiADDmodN(a, n, N)\n",
    "qc.append(modadder_circuit, list(range(N+3)))\n",
    "qc.append(qft_inv, list(range(2, N+2)))\n",
    "qc = transpile(qc, backend)\n",
    "qc.measure_all()\n",
    "job = backend.run(transpile(qc, backend), shots=1024)\n",
    "res_dict = job.result().get_counts()\n",
    "print(res_dict)\n"
   ]
  },
  {
   "cell_type": "code",
   "execution_count": 7,
   "metadata": {},
   "outputs": [
    {
     "name": "stdout",
     "output_type": "stream",
     "text": [
      "000 000 111011\n",
      "000 001 111011\n",
      "000 010 111011\n",
      "000 011 111011\n",
      "000 100 111011\n",
      "000 101 111011\n",
      "000 110 111011\n",
      "001 000 000011\n",
      "001 001 000011\n",
      "001 010 000011\n",
      "001 011 000011\n",
      "001 100 000011\n",
      "001 101 000011\n",
      "001 110 000011\n",
      "010 000 000111\n",
      "010 001 000111\n",
      "010 010 000111\n",
      "010 011 000111\n",
      "010 100 000111\n",
      "010 101 000111\n",
      "010 110 000111\n",
      "011 000 001011\n",
      "011 001 001011\n",
      "011 010 001011\n",
      "011 011 001011\n",
      "011 100 001011\n",
      "011 101 001011\n",
      "011 110 001011\n",
      "100 000 001111\n",
      "100 001 001111\n",
      "100 010 001111\n",
      "100 011 001111\n",
      "100 100 001111\n",
      "100 101 001111\n",
      "100 110 001111\n",
      "101 000 101111\n",
      "101 001 101111\n",
      "101 010 101111\n",
      "101 011 101111\n",
      "101 100 101111\n",
      "101 101 101111\n",
      "101 110 101111\n",
      "110 000 110011\n",
      "110 001 110011\n",
      "110 010 110011\n",
      "110 011 110011\n",
      "110 100 110011\n",
      "110 101 110011\n",
      "110 110 110011\n"
     ]
    }
   ],
   "source": [
    "n = 7\n",
    "N = math.ceil(math.log2(n))\n",
    "for l in itertools.product(range(7), repeat=2):\n",
    "    a_bin = bin(l[0])[2:].zfill(N)\n",
    "    b_bin = bin(l[1])[2:].zfill(N)\n",
    "    qc = QuantumCircuit(N+3)\n",
    "    qft = QFT(N, do_swaps=False)\n",
    "    qft_inv = qft.inverse()\n",
    "    qc.x([0, 1])\n",
    "    for i in range(N):\n",
    "        if bin_b[i] == '1':\n",
    "            qc.x(i+2)\n",
    "    qc.append(qft, list(range(2, N+2)))\n",
    "    modadder_circuit = ccphiADDmodN(l[0], n, N)\n",
    "    qc.append(modadder_circuit, list(range(N+3)))\n",
    "    qc.append(qft_inv, list(range(2, N+2)))\n",
    "    qc.measure_all()\n",
    "    job = backend.run(transpile(qc, backend), shots=1024)\n",
    "    res_str = job.result().get_counts().most_frequent()\n",
    "    print(a_bin, b_bin, res_str)"
   ]
  },
  {
   "cell_type": "code",
   "execution_count": 8,
   "metadata": {},
   "outputs": [],
   "source": [
    "# test adder\n",
    "#n = 7\n",
    "#N = math.ceil(math.log2(n))\n",
    "\n",
    "#qc = QuantumCircuit(N+3)\n",
    "#qft_inv = QFT(N, do_swaps=False, inverse=True)\n",
    "#for a in range(n):\n",
    "#    for b in range(n):\n",
    "#        bin_b = bin(b)[2:].zfill(N)\n",
    "#        for i in range(N):\n",
    "#            if bin_b[i] == '1':\n",
    "#                qc.x(i+2)\n",
    "#        qc.h(list(range(2, N+2)))\n",
    "#       modadder_circuit = ccphiADDmodN(a, n, N)\n",
    "#        qc.append(modadder_circuit, list(range(N+3)))\n",
    "#        qc.append(qft_inv, list(range(2, N+2)))\n",
    "#        qc.measure_all()\n",
    "#        job = backend.run(transpile(qc, backend), shots=1024)\n",
    "#        res_dict = job.result().get_counts()\n",
    "#        res = res_dict.most_frequent()[2:N+3]\n",
    "#        #res_val = 0\n",
    "#        #for i in range(N):\n",
    "#        #    if res[i] == '1':\n",
    "#        #        res_val += 2**(N-1-i)\n",
    "#        #print(f\"{a} + {b} = {res_val}\")\n",
    "#        print(res)                "
   ]
  }
 ],
 "metadata": {
  "kernelspec": {
   "display_name": "qc",
   "language": "python",
   "name": "python3"
  },
  "language_info": {
   "codemirror_mode": {
    "name": "ipython",
    "version": 3
   },
   "file_extension": ".py",
   "mimetype": "text/x-python",
   "name": "python",
   "nbconvert_exporter": "python",
   "pygments_lexer": "ipython3",
   "version": "3.12.4"
  }
 },
 "nbformat": 4,
 "nbformat_minor": 2
}
