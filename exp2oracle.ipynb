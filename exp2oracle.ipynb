{
 "cells": [
  {
   "cell_type": "markdown",
   "metadata": {},
   "source": [
    "## Convert a boolian expression to an oracle"
   ]
  },
  {
   "cell_type": "code",
   "execution_count": 153,
   "metadata": {},
   "outputs": [],
   "source": [
    "from qiskit.circuit import Parameter, ClassicalRegister\n",
    "from funcs import *"
   ]
  },
  {
   "cell_type": "markdown",
   "metadata": {},
   "source": [
    "### 1. convert expression to reverse prefix notation"
   ]
  },
  {
   "cell_type": "code",
   "execution_count": 154,
   "metadata": {},
   "outputs": [],
   "source": [
    "# expression should only contain capital letters or !, (, ), &, separated by spaces\n",
    "# expression = '! ( ! ( A & B ) ) & ( ! C & D ) & E'\n",
    "expression = '( ! A & B ) & C & ( C & ! E ) & D'\n",
    "# remenber to change 'testvec' after changing 'expression'\n",
    "testvec = '01101'        # test vector should agree with the expression in the number of variables"
   ]
  },
  {
   "cell_type": "code",
   "execution_count": 155,
   "metadata": {},
   "outputs": [
    {
     "name": "stdout",
     "output_type": "stream",
     "text": [
      "['A', '!', 'B', '&', 'C', '&', 'C', 'E', '!', '&', '&', 'D', '&']\n"
     ]
    }
   ],
   "source": [
    "def infixToPostfix(infixexpr):\n",
    "    prec = {}\n",
    "    prec[\"!\"] = 3\n",
    "    prec[\"&\"] = 2\n",
    "    prec[\"(\"] = 1\n",
    "    oplist = []\n",
    "    postfixList = []\n",
    "    tokenList = infixexpr.split()\n",
    "\n",
    "    for token in tokenList:\n",
    "        if token in \"ABCDEFGHIJKLMNOPQRSTUVWXYZ\" or token in \"01\":\n",
    "            postfixList.append(token)\n",
    "        elif token == '(':\n",
    "            oplist.append(token)\n",
    "        elif token == ')':\n",
    "            topToken = oplist.pop()\n",
    "            while topToken != '(':\n",
    "                postfixList.append(topToken)\n",
    "                topToken = oplist.pop()\n",
    "        else:\n",
    "            while (len(oplist)>0) and \\\n",
    "               (prec[oplist[-1]] >= prec[token]):\n",
    "                  postfixList.append(oplist.pop())\n",
    "            oplist.append(token)\n",
    "\n",
    "    while len(oplist) > 0:\n",
    "        postfixList.append(oplist.pop())\n",
    "    return \" \".join(postfixList)\n",
    "\n",
    "rpn = infixToPostfix(expression)\n",
    "rpnlst = rpn.split()\n",
    "print(rpnlst)"
   ]
  },
  {
   "cell_type": "markdown",
   "metadata": {},
   "source": [
    "### 2.Convert RPN to qiskit instructions"
   ]
  },
  {
   "cell_type": "code",
   "execution_count": 156,
   "metadata": {},
   "outputs": [
    {
     "name": "stdout",
     "output_type": "stream",
     "text": [
      "{'A': 0, 'B': 1, 'C': 2, 'E': 3, 'D': 4} 4\n",
      "{0: 0, 1: 0, 2: 0, 3: 0, 4: 0}\n"
     ]
    }
   ],
   "source": [
    "qubit_dict = {}\n",
    "not_dict = {}\n",
    "flag = 0\n",
    "for ch in rpnlst:\n",
    "    if ch.isalpha() and ch not in qubit_dict:\n",
    "        qubit_dict[ch] = flag\n",
    "        not_dict[flag] = 0\n",
    "        flag += 1\n",
    "qubit_num = flag + rpnlst.count('&')\n",
    "qc = QuantumCircuit(qubit_num)\n",
    "flag -= 1\n",
    "\n",
    "for i in range(flag+1):\n",
    "    if testvec[i] == '1':\n",
    "        qc.x(i)\n",
    "print(qubit_dict, flag)\n",
    "print(not_dict)"
   ]
  },
  {
   "cell_type": "code",
   "execution_count": 157,
   "metadata": {},
   "outputs": [
    {
     "name": "stdout",
     "output_type": "stream",
     "text": [
      "[0, '!', 1, '&', 2, '&', 2, 3, '!', '&', '&', 4, '&']\n",
      "0 [] 4\n",
      "! [0] 4\n",
      "1 [0] 4\n",
      "& [0, 1] 4\n",
      "2 [5] 5\n",
      "& [5, 2] 5\n",
      "2 [6] 6\n",
      "3 [6, 2] 6\n",
      "! [6, 2, 3] 6\n",
      "& [6, 2, 3] 6\n",
      "& [6, 7] 7\n",
      "4 [8] 8\n",
      "& [8, 4] 8\n",
      "& [9] 9\n"
     ]
    }
   ],
   "source": [
    "operators = ['&', '!']\n",
    "stack = []\n",
    "tokens = []\n",
    "for char in rpnlst:  \n",
    "    if char.isalpha():  \n",
    "        tokens.append(qubit_dict[char])  \n",
    "    elif char in operators:  \n",
    "        tokens.append(char)  \n",
    "print(tokens)\n",
    "for token in tokens: \n",
    "    print(token, stack, flag) \n",
    "    if token not in operators:\n",
    "        stack.append(token)\n",
    "        if (token in not_dict) and (not_dict[token] % 2 == 1):\n",
    "            qc.x(token)    # if the number of '!' is odd, apply x gate\n",
    "    elif token == '!':\n",
    "        qc.x(stack[-1])\n",
    "        if stack[-1] in not_dict:\n",
    "            not_dict[stack[-1]] += 1\n",
    "    elif token == '&':\n",
    "        flag += 1\n",
    "        qc.ccx(stack[-2], stack[-1], flag)\n",
    "        stack.pop()\n",
    "        stack.pop()\n",
    "        stack.append(flag)\n",
    "print(token, stack, flag) "
   ]
  },
  {
   "cell_type": "code",
   "execution_count": 158,
   "metadata": {},
   "outputs": [
    {
     "data": {
      "image/png": "[encoded data removed]",
      "text/plain": [
       "<Figure size 721.379x953.167 with 1 Axes>"
      ]
     },
     "execution_count": 158,
     "metadata": {},
     "output_type": "execute_result"
    }
   ],
   "source": [
    "qc = transpile(qc, backend=AerSimulator(), optimization_level=3)\n",
    "c = ClassicalRegister(1)\n",
    "qc.add_register(c)\n",
    "qc.measure(flag, c[0])\n",
    "qc.draw(output='mpl')"
   ]
  },
  {
   "cell_type": "code",
   "execution_count": 159,
   "metadata": {},
   "outputs": [
    {
     "name": "stdout",
     "output_type": "stream",
     "text": [
      "original expression:  ( ! A & B ) & C & ( C & ! E ) & D\n",
      "qubit_index:  {'A': 0, 'B': 1, 'C': 2, 'E': 3, 'D': 4}\n",
      "initialize:  01101\n",
      "val_expr:  ( ! 0 & 1 ) & 1 & ( 1 & ! 0 ) & 1\n",
      "result:  {'1': 1024}\n"
     ]
    }
   ],
   "source": [
    "print('original expression: ', expression)\n",
    "print('qubit_index: ', qubit_dict)\n",
    "print('initialize: ', testvec)\n",
    "val_expr = ''\n",
    "for ch in expression:\n",
    "    if ch in qubit_dict:\n",
    "        val_expr += testvec[qubit_dict[ch]]\n",
    "    else:\n",
    "        val_expr += ch\n",
    "print('val_expr: ', val_expr)\n",
    "results = execute_qc(qc)\n",
    "print('result: ', results)\n"
   ]
  }
 ],
 "metadata": {
  "kernelspec": {
   "display_name": "qc",
   "language": "python",
   "name": "python3"
  },
  "language_info": {
   "codemirror_mode": {
    "name": "ipython",
    "version": 3
   },
   "file_extension": ".py",
   "mimetype": "text/x-python",
   "name": "python",
   "nbconvert_exporter": "python",
   "pygments_lexer": "ipython3",
   "version": "3.12.3"
  }
 },
 "nbformat": 4,
 "nbformat_minor": 2
}
